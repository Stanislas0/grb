{
 "cells": [
  {
   "cell_type": "code",
   "execution_count": 1,
   "metadata": {
    "ExecuteTime": {
     "end_time": "2021-05-07T08:32:41.672119Z",
     "start_time": "2021-05-07T08:32:40.718289Z"
    }
   },
   "outputs": [],
   "source": [
    "import os\n",
    "import pickle\n",
    "import numpy as np\n",
    "import scipy.sparse as sp\n",
    "import networkx\n",
    "import importlib\n",
    "import torch\n",
    "import torch.nn.functional as F"
   ]
  },
  {
   "cell_type": "code",
   "execution_count": 2,
   "metadata": {
    "ExecuteTime": {
     "end_time": "2021-05-07T08:32:41.678106Z",
     "start_time": "2021-05-07T08:32:41.673848Z"
    }
   },
   "outputs": [],
   "source": [
    "import sys\n",
    "sys.path.append('..')\n",
    "\n",
    "import grb\n",
    "import grb.utils as utils\n",
    "from grb.utils import evaluator"
   ]
  },
  {
   "cell_type": "markdown",
   "metadata": {},
   "source": [
    "# Load data"
   ]
  },
  {
   "cell_type": "markdown",
   "metadata": {},
   "source": [
    "## Pre-defined dataset"
   ]
  },
  {
   "cell_type": "code",
   "execution_count": 35,
   "metadata": {
    "ExecuteTime": {
     "end_time": "2021-05-07T09:38:51.532215Z",
     "start_time": "2021-05-07T09:38:51.496273Z"
    },
    "scrolled": false
   },
   "outputs": [
    {
     "name": "stdout",
     "output_type": "stream",
     "text": [
      "Dataset 'cora' loaded.\n",
      "    Number of nodes: 2708.\n",
      "    Number of edges: 5242.\n",
      "    Number of features: 1433.\n",
      "    Number of classes: 7.\n",
      "    Number of train samples: 140.\n",
      "    Number of val samples: 500.\n",
      "    Number of test samples: 1000.\n",
      "    Feature range: [0.0000, 1.0000]\n"
     ]
    }
   ],
   "source": [
    "from grb.dataset.dataset import Dataset\n",
    "dataset = Dataset('cora')"
   ]
  },
  {
   "cell_type": "markdown",
   "metadata": {},
   "source": [
    "## Custom dataset"
   ]
  },
  {
   "cell_type": "code",
   "execution_count": 4,
   "metadata": {
    "ExecuteTime": {
     "end_time": "2021-05-07T08:32:42.980934Z",
     "start_time": "2021-05-07T08:32:42.966880Z"
    }
   },
   "outputs": [],
   "source": [
    "data_dir = \"../data/Refined-cora-citeseer\"\n",
    "with open(os.path.join(data_dir, \"corax_adj.pkl\"), 'rb') as f:\n",
    "    adj = pickle.load(f)\n",
    "with open(os.path.join(data_dir, \"corax_features.pkl\"), 'rb') as f:\n",
    "    features = pickle.load(f)\n",
    "with open(os.path.join(data_dir, \"corax_labels.pkl\"), 'rb') as f:\n",
    "    labels = pickle.load(f)\n",
    "    labels = np.argmax(labels, axis=1)\n",
    "    \n",
    "n_node = features.shape[0]\n",
    "train_mask = torch.zeros(n_node, dtype=bool)\n",
    "train_mask[range(1180)] = True\n",
    "val_mask = torch.zeros(n_node, dtype=bool)\n",
    "val_mask[range(1180, 2180)] = True\n",
    "test_mask = torch.zeros(n_node, dtype=bool)\n",
    "test_mask[range(2180, 2680)] = True"
   ]
  },
  {
   "cell_type": "code",
   "execution_count": 5,
   "metadata": {
    "ExecuteTime": {
     "end_time": "2021-05-07T08:32:43.003154Z",
     "start_time": "2021-05-07T08:32:42.996732Z"
    }
   },
   "outputs": [
    {
     "name": "stdout",
     "output_type": "stream",
     "text": [
      "Custom Dataset 'Refined-cora' loaded.\n",
      "    Number of nodes: 2680.\n",
      "    Number of edges: 10296.\n",
      "    Number of features: 302.\n",
      "    Number of classes: 7.\n",
      "    Number of train samples: 1180.\n",
      "    Number of val samples: 1000.\n",
      "    Number of test samples: 500.\n",
      "    Feature range [-2.2968, 2.4000]\n"
     ]
    }
   ],
   "source": [
    "from grb.dataset.dataset import CustomDataset\n",
    "\n",
    "dataset = CustomDataset(adj=adj,\n",
    "                        features=features,\n",
    "                        labels=labels,\n",
    "                        train_mask=train_mask,\n",
    "                        val_mask=val_mask,\n",
    "                        test_mask=test_mask,\n",
    "                        name='Refined-cora')"
   ]
  },
  {
   "cell_type": "markdown",
   "metadata": {},
   "source": [
    "## Load data"
   ]
  },
  {
   "cell_type": "code",
   "execution_count": 36,
   "metadata": {
    "ExecuteTime": {
     "end_time": "2021-05-07T09:38:54.682869Z",
     "start_time": "2021-05-07T09:38:54.678798Z"
    }
   },
   "outputs": [],
   "source": [
    "device = 'cuda:3'\n",
    "adj = dataset.adj\n",
    "adj_tensor = dataset.adj_tensor\n",
    "features = dataset.features\n",
    "labels = dataset.labels\n",
    "num_features = dataset.num_features\n",
    "num_classes = dataset.num_classes"
   ]
  },
  {
   "cell_type": "markdown",
   "metadata": {},
   "source": [
    "# Prepare surrogate model"
   ]
  },
  {
   "cell_type": "markdown",
   "metadata": {},
   "source": [
    "## Build model"
   ]
  },
  {
   "cell_type": "code",
   "execution_count": 37,
   "metadata": {
    "ExecuteTime": {
     "end_time": "2021-05-07T09:38:58.403328Z",
     "start_time": "2021-05-07T09:38:58.399056Z"
    }
   },
   "outputs": [],
   "source": [
    "from grb.model.gcn import GCN\n",
    "from grb.utils.normalize import GCNAdjNorm"
   ]
  },
  {
   "cell_type": "code",
   "execution_count": 38,
   "metadata": {
    "ExecuteTime": {
     "end_time": "2021-05-07T09:39:00.997532Z",
     "start_time": "2021-05-07T09:39:00.987982Z"
    }
   },
   "outputs": [
    {
     "name": "stdout",
     "output_type": "stream",
     "text": [
      "Number of parameters: 96391.\n",
      "GCN(\n",
      "  (layers): ModuleList(\n",
      "    (0): GCNConv(\n",
      "      (linear): Linear(in_features=1433, out_features=64, bias=True)\n",
      "    )\n",
      "    (1): GCNConv(\n",
      "      (linear): Linear(in_features=64, out_features=64, bias=True)\n",
      "    )\n",
      "    (2): GCNConv(\n",
      "      (linear): Linear(in_features=64, out_features=7, bias=True)\n",
      "    )\n",
      "  )\n",
      ")\n"
     ]
    }
   ],
   "source": [
    "model = GCN(in_features=num_features, \n",
    "            out_features=num_classes, \n",
    "            hidden_features=[64, 64], \n",
    "            activation=F.relu)\n",
    "print(\"Number of parameters: {}.\".format(utils.get_num_params(model)))\n",
    "print(model)"
   ]
  },
  {
   "cell_type": "markdown",
   "metadata": {},
   "source": [
    "## Model training"
   ]
  },
  {
   "cell_type": "code",
   "execution_count": 39,
   "metadata": {
    "ExecuteTime": {
     "end_time": "2021-05-07T09:39:07.949135Z",
     "start_time": "2021-05-07T09:39:07.904575Z"
    }
   },
   "outputs": [],
   "source": [
    "from grb.model.trainer import Trainer\n",
    "\n",
    "adam = torch.optim.Adam(model.parameters(), lr=0.01)\n",
    "trainer = Trainer(dataset=dataset, \n",
    "                  optimizer=adam, \n",
    "                  loss=F.nll_loss,\n",
    "                  adj_norm_func=GCNAdjNorm,\n",
    "                  lr_scheduler=False,\n",
    "                  early_stop=False,\n",
    "                  device=device)"
   ]
  },
  {
   "cell_type": "code",
   "execution_count": 40,
   "metadata": {
    "ExecuteTime": {
     "end_time": "2021-05-07T09:39:15.748199Z",
     "start_time": "2021-05-07T09:39:09.446388Z"
    }
   },
   "outputs": [
    {
     "name": "stdout",
     "output_type": "stream",
     "text": [
      "Epoch 00000 | Train Loss 1.9546 | Train Acc 0.1214 | Val Loss 1.9551 | Val Acc 0.1080\n",
      "Epoch 00050 | Train Loss 0.0223 | Train Acc 1.0000 | Val Loss 1.0466 | Val Acc 0.7320\n",
      "Epoch 00100 | Train Loss 0.0035 | Train Acc 1.0000 | Val Loss 1.2865 | Val Acc 0.7540\n",
      "Epoch 00150 | Train Loss 0.0012 | Train Acc 1.0000 | Val Loss 1.4228 | Val Acc 0.7440\n",
      "Epoch 00200 | Train Loss 0.0015 | Train Acc 1.0000 | Val Loss 1.4812 | Val Acc 0.7680\n",
      "Epoch 00250 | Train Loss 0.0004 | Train Acc 1.0000 | Val Loss 1.7176 | Val Acc 0.7480\n",
      "Epoch 00300 | Train Loss 0.0002 | Train Acc 1.0000 | Val Loss 1.6525 | Val Acc 0.7400\n",
      "Epoch 00350 | Train Loss 0.0009 | Train Acc 1.0000 | Val Loss 1.7108 | Val Acc 0.7540\n",
      "Epoch 00400 | Train Loss 0.0014 | Train Acc 1.0000 | Val Loss 1.6388 | Val Acc 0.7560\n",
      "Epoch 00450 | Train Loss 0.0007 | Train Acc 1.0000 | Val Loss 1.7851 | Val Acc 0.7460\n",
      "Epoch 00500 | Train Loss 0.0002 | Train Acc 1.0000 | Val Loss 1.9398 | Val Acc 0.7420\n",
      "Epoch 00550 | Train Loss 0.0002 | Train Acc 1.0000 | Val Loss 1.9690 | Val Acc 0.7240\n",
      "Epoch 00600 | Train Loss 0.0002 | Train Acc 1.0000 | Val Loss 1.9408 | Val Acc 0.7420\n",
      "Epoch 00650 | Train Loss 0.0002 | Train Acc 1.0000 | Val Loss 2.2158 | Val Acc 0.7240\n",
      "Epoch 00700 | Train Loss 0.0001 | Train Acc 1.0000 | Val Loss 2.1343 | Val Acc 0.7420\n",
      "Epoch 00750 | Train Loss 0.0002 | Train Acc 1.0000 | Val Loss 2.2716 | Val Acc 0.7320\n",
      "Epoch 00800 | Train Loss 0.0007 | Train Acc 1.0000 | Val Loss 2.0979 | Val Acc 0.7460\n",
      "Epoch 00850 | Train Loss 0.0007 | Train Acc 1.0000 | Val Loss 2.1135 | Val Acc 0.7580\n",
      "Epoch 00900 | Train Loss 0.0000 | Train Acc 1.0000 | Val Loss 2.2340 | Val Acc 0.7300\n",
      "Epoch 00950 | Train Loss 0.0006 | Train Acc 1.0000 | Val Loss 2.2936 | Val Acc 0.7500\n",
      "Model saved in '../saved_models/gcn_cora/checkpoint_final.pt'.\n"
     ]
    }
   ],
   "source": [
    "trainer.train(model=model,\n",
    "              n_epoch=1000,\n",
    "              save_dir=\"../saved_models/gcn_cora\",\n",
    "              eval_every=50,\n",
    "              save_after=500,\n",
    "              dropout=0.5,\n",
    "              verbose=True)"
   ]
  },
  {
   "cell_type": "markdown",
   "metadata": {},
   "source": [
    "## Load trained weights"
   ]
  },
  {
   "cell_type": "code",
   "execution_count": 9,
   "metadata": {
    "ExecuteTime": {
     "end_time": "2021-05-07T08:32:51.435178Z",
     "start_time": "2021-05-07T08:32:47.428574Z"
    }
   },
   "outputs": [
    {
     "data": {
      "text/plain": [
       "<All keys matched successfully>"
      ]
     },
     "execution_count": 9,
     "metadata": {},
     "output_type": "execute_result"
    }
   ],
   "source": [
    "model.load_state_dict(torch.load('../saved_models/gcn_cora/checkpoint.pt'))"
   ]
  },
  {
   "cell_type": "markdown",
   "metadata": {},
   "source": [
    "## Evaluation"
   ]
  },
  {
   "cell_type": "code",
   "execution_count": 10,
   "metadata": {
    "ExecuteTime": {
     "end_time": "2021-05-07T08:32:51.455167Z",
     "start_time": "2021-05-07T08:32:51.437010Z"
    }
   },
   "outputs": [
    {
     "name": "stdout",
     "output_type": "stream",
     "text": [
      "Test accuracy: 0.8400\n"
     ]
    }
   ],
   "source": [
    "pred = model.forward(features, utils.adj_preprocess(adj, adj_norm_func=GCNAdjNorm), dropout=0)\n",
    "pred_label = torch.argmax(pred, dim=1)\n",
    "acc = evaluator.eval_acc(pred, labels, mask=dataset.test_mask)\n",
    "\n",
    "print(\"Test accuracy: {:.4f}\".format(acc))"
   ]
  },
  {
   "cell_type": "markdown",
   "metadata": {},
   "source": [
    "# Attack"
   ]
  },
  {
   "cell_type": "markdown",
   "metadata": {},
   "source": [
    "## FGSM"
   ]
  },
  {
   "cell_type": "code",
   "execution_count": 27,
   "metadata": {
    "ExecuteTime": {
     "end_time": "2021-05-07T08:54:44.439109Z",
     "start_time": "2021-05-07T08:54:44.224701Z"
    },
    "scrolled": true
   },
   "outputs": [
    {
     "name": "stdout",
     "output_type": "stream",
     "text": [
      "Epoch 0, Loss: 3.04357, Test acc: 0.75000\n",
      "Epoch 1, Loss: 3.32545, Test acc: 0.63200\n",
      "Epoch 2, Loss: 3.48930, Test acc: 0.51000\n",
      "Epoch 3, Loss: 3.56440, Test acc: 0.44000\n",
      "Epoch 4, Loss: 3.71458, Test acc: 0.41800\n",
      "Epoch 5, Loss: 3.90337, Test acc: 0.41600\n",
      "Epoch 6, Loss: 4.08175, Test acc: 0.38400\n",
      "Epoch 7, Loss: 4.28346, Test acc: 0.39600\n",
      "Epoch 8, Loss: 4.50823, Test acc: 0.37000\n",
      "Epoch 9, Loss: 4.68984, Test acc: 0.38600\n"
     ]
    }
   ],
   "source": [
    "from grb.attack.fgsm import FGSM\n",
    "\n",
    "config = {}\n",
    "config['epsilon'] = 0.01\n",
    "config['n_epoch'] = 10\n",
    "config['feat_lim_min'] = 0\n",
    "config['feat_lim_max'] = 1\n",
    "config['n_inject_max'] = 100\n",
    "config['n_edge_max'] = 20\n",
    "\n",
    "fgsm = FGSM(dataset, adj_norm_func=GCNAdjNorm, device=device)\n",
    "fgsm.set_config(**config)\n",
    "adj_attack, features_attack = fgsm.attack(model)"
   ]
  },
  {
   "cell_type": "code",
   "execution_count": 26,
   "metadata": {
    "ExecuteTime": {
     "end_time": "2021-05-07T08:54:42.942010Z",
     "start_time": "2021-05-07T08:54:42.930494Z"
    }
   },
   "outputs": [
    {
     "data": {
      "text/plain": [
       "<module 'grb.attack.fgsm' from '../grb/attack/fgsm.py'>"
      ]
     },
     "execution_count": 26,
     "metadata": {},
     "output_type": "execute_result"
    }
   ],
   "source": [
    "importlib.reload(grb.attack.fgsm)"
   ]
  },
  {
   "cell_type": "markdown",
   "metadata": {},
   "source": [
    "## SPEIT"
   ]
  },
  {
   "cell_type": "code",
   "execution_count": 13,
   "metadata": {
    "ExecuteTime": {
     "end_time": "2021-05-07T08:33:02.289560Z",
     "start_time": "2021-05-07T08:33:01.489891Z"
    },
    "scrolled": true
   },
   "outputs": [
    {
     "name": "stdout",
     "output_type": "stream",
     "text": [
      "Epoch 0, Loss: 22.49386, Test acc: 0.99600\n",
      "Epoch 1, Loss: 22.39210, Test acc: 0.99600\n",
      "Epoch 2, Loss: 22.27702, Test acc: 0.99600\n",
      "Epoch 3, Loss: 22.14484, Test acc: 0.98600\n",
      "Epoch 4, Loss: 21.99894, Test acc: 0.97600\n",
      "Epoch 5, Loss: 21.84322, Test acc: 0.97200\n",
      "Epoch 6, Loss: 21.68154, Test acc: 0.95600\n",
      "Epoch 7, Loss: 21.51576, Test acc: 0.95000\n",
      "Epoch 8, Loss: 21.34705, Test acc: 0.93800\n",
      "Epoch 9, Loss: 21.17599, Test acc: 0.93000\n",
      "Epoch 10, Loss: 21.00336, Test acc: 0.91800\n",
      "Epoch 11, Loss: 20.82933, Test acc: 0.90800\n",
      "Epoch 12, Loss: 20.65326, Test acc: 0.89800\n",
      "Epoch 13, Loss: 20.47496, Test acc: 0.89400\n",
      "Epoch 14, Loss: 20.29387, Test acc: 0.88600\n",
      "Epoch 15, Loss: 20.11124, Test acc: 0.87800\n",
      "Epoch 16, Loss: 19.92774, Test acc: 0.87400\n",
      "Epoch 17, Loss: 19.74131, Test acc: 0.86600\n",
      "Epoch 18, Loss: 19.55345, Test acc: 0.86400\n",
      "Epoch 19, Loss: 19.36393, Test acc: 0.85600\n",
      "Epoch 20, Loss: 19.17199, Test acc: 0.85400\n",
      "Epoch 21, Loss: 18.97903, Test acc: 0.84600\n",
      "Epoch 22, Loss: 18.78416, Test acc: 0.84600\n",
      "Epoch 23, Loss: 18.58852, Test acc: 0.84600\n",
      "Epoch 24, Loss: 18.39139, Test acc: 0.84600\n",
      "Epoch 25, Loss: 18.19313, Test acc: 0.84600\n",
      "Epoch 26, Loss: 17.99263, Test acc: 0.84400\n",
      "Epoch 27, Loss: 17.79136, Test acc: 0.84000\n",
      "Epoch 28, Loss: 17.58755, Test acc: 0.84000\n",
      "Epoch 29, Loss: 17.38111, Test acc: 0.84000\n",
      "Epoch 30, Loss: 17.17214, Test acc: 0.83800\n",
      "Epoch 31, Loss: 16.96038, Test acc: 0.83600\n",
      "Epoch 32, Loss: 16.74636, Test acc: 0.83600\n",
      "Epoch 33, Loss: 16.53017, Test acc: 0.82800\n",
      "Epoch 34, Loss: 16.31232, Test acc: 0.82800\n",
      "Epoch 35, Loss: 16.09314, Test acc: 0.82800\n",
      "Epoch 36, Loss: 15.87218, Test acc: 0.82600\n",
      "Epoch 37, Loss: 15.64943, Test acc: 0.82200\n",
      "Epoch 38, Loss: 15.42438, Test acc: 0.82200\n",
      "Epoch 39, Loss: 15.19756, Test acc: 0.82200\n",
      "Epoch 40, Loss: 14.96924, Test acc: 0.82000\n",
      "Epoch 41, Loss: 14.73937, Test acc: 0.81800\n",
      "Epoch 42, Loss: 14.50626, Test acc: 0.81400\n",
      "Epoch 43, Loss: 14.27120, Test acc: 0.81200\n",
      "Epoch 44, Loss: 14.03482, Test acc: 0.80800\n",
      "Epoch 45, Loss: 13.79673, Test acc: 0.80600\n",
      "Epoch 46, Loss: 13.55684, Test acc: 0.79800\n",
      "Epoch 47, Loss: 13.31593, Test acc: 0.79800\n",
      "Epoch 48, Loss: 13.07415, Test acc: 0.79800\n",
      "Epoch 49, Loss: 12.83013, Test acc: 0.79600\n",
      "Epoch 50, Loss: 12.58393, Test acc: 0.79400\n",
      "Epoch 51, Loss: 12.33651, Test acc: 0.79400\n",
      "Epoch 52, Loss: 12.08800, Test acc: 0.79200\n",
      "Epoch 53, Loss: 11.83869, Test acc: 0.79200\n",
      "Epoch 54, Loss: 11.58746, Test acc: 0.78800\n",
      "Epoch 55, Loss: 11.33550, Test acc: 0.78800\n",
      "Epoch 56, Loss: 11.08297, Test acc: 0.78800\n",
      "Epoch 57, Loss: 10.82915, Test acc: 0.78600\n",
      "Epoch 58, Loss: 10.57388, Test acc: 0.78400\n",
      "Epoch 59, Loss: 10.31816, Test acc: 0.78400\n",
      "Epoch 60, Loss: 10.06113, Test acc: 0.78400\n",
      "Epoch 61, Loss: 9.80291, Test acc: 0.78400\n",
      "Epoch 62, Loss: 9.54393, Test acc: 0.78400\n",
      "Epoch 63, Loss: 9.28449, Test acc: 0.78000\n",
      "Epoch 64, Loss: 9.02326, Test acc: 0.78000\n",
      "Epoch 65, Loss: 8.76134, Test acc: 0.77800\n",
      "Epoch 66, Loss: 8.49813, Test acc: 0.77800\n",
      "Epoch 67, Loss: 8.23407, Test acc: 0.77600\n",
      "Epoch 68, Loss: 7.96910, Test acc: 0.77400\n",
      "Epoch 69, Loss: 7.70255, Test acc: 0.77400\n",
      "Epoch 70, Loss: 7.43556, Test acc: 0.77200\n",
      "Epoch 71, Loss: 7.16840, Test acc: 0.77000\n",
      "Epoch 72, Loss: 6.90104, Test acc: 0.77000\n",
      "Epoch 73, Loss: 6.63324, Test acc: 0.76800\n",
      "Epoch 74, Loss: 6.36515, Test acc: 0.76800\n",
      "Epoch 75, Loss: 6.09650, Test acc: 0.76800\n",
      "Epoch 76, Loss: 5.82764, Test acc: 0.76800\n",
      "Epoch 77, Loss: 5.55865, Test acc: 0.76800\n",
      "Epoch 78, Loss: 5.28971, Test acc: 0.76800\n",
      "Epoch 79, Loss: 5.02099, Test acc: 0.76800\n",
      "Epoch 80, Loss: 4.75249, Test acc: 0.76800\n",
      "Epoch 81, Loss: 4.48487, Test acc: 0.76800\n",
      "Epoch 82, Loss: 4.21941, Test acc: 0.76800\n",
      "Epoch 83, Loss: 3.95811, Test acc: 0.76600\n",
      "Epoch 84, Loss: 3.70247, Test acc: 0.76600\n",
      "Epoch 85, Loss: 3.45492, Test acc: 0.76400\n",
      "Epoch 86, Loss: 3.21653, Test acc: 0.76400\n",
      "Epoch 87, Loss: 2.98902, Test acc: 0.76400\n",
      "Epoch 88, Loss: 2.77309, Test acc: 0.76400\n",
      "Epoch 89, Loss: 2.57133, Test acc: 0.76200\n",
      "Epoch 90, Loss: 2.38496, Test acc: 0.76200\n",
      "Epoch 91, Loss: 2.21418, Test acc: 0.76000\n",
      "Epoch 92, Loss: 2.06024, Test acc: 0.76000\n",
      "Epoch 93, Loss: 1.92400, Test acc: 0.76000\n",
      "Epoch 94, Loss: 1.80460, Test acc: 0.76000\n",
      "Epoch 95, Loss: 1.70052, Test acc: 0.76000\n",
      "Epoch 96, Loss: 1.61020, Test acc: 0.76000\n",
      "Epoch 97, Loss: 1.53150, Test acc: 0.76000\n",
      "Epoch 98, Loss: 1.46179, Test acc: 0.75800\n",
      "Epoch 99, Loss: 1.39988, Test acc: 0.75800\n"
     ]
    }
   ],
   "source": [
    "from grb.attack.speit import SPEIT\n",
    "\n",
    "config = {}\n",
    "config['inject_mode'] = 'random-inter'\n",
    "config['lr'] = 0.01\n",
    "config['n_epoch'] = 100\n",
    "config['feat_lim_min'] = 0\n",
    "config['feat_lim_max'] = 1\n",
    "config['n_inject_max'] = 100\n",
    "config['n_edge_max'] = 20\n",
    "\n",
    "speit = SPEIT(dataset, adj_norm_func=GCNAdjNorm, device=device)\n",
    "speit.set_config(**config)\n",
    "target_node = np.random.choice(dataset.num_test, 100)\n",
    "adj_attack, features_attack = speit.attack(model, target_node)"
   ]
  },
  {
   "cell_type": "code",
   "execution_count": 14,
   "metadata": {
    "ExecuteTime": {
     "end_time": "2021-05-07T08:33:03.138828Z",
     "start_time": "2021-05-07T08:33:03.133271Z"
    }
   },
   "outputs": [],
   "source": [
    "utils.save_features(features_attack, './speit_cora', 'features.npy')\n",
    "utils.save_adj(adj_attack, './speit_cora', 'adj.pkl')"
   ]
  },
  {
   "cell_type": "markdown",
   "metadata": {},
   "source": [
    "## TDGIA"
   ]
  },
  {
   "cell_type": "code",
   "execution_count": 53,
   "metadata": {
    "ExecuteTime": {
     "end_time": "2021-05-07T11:06:06.593300Z",
     "start_time": "2021-05-07T11:06:06.036962Z"
    },
    "scrolled": true
   },
   "outputs": [
    {
     "name": "stdout",
     "output_type": "stream",
     "text": [
      "Epoch 0, Loss: 11.39142, Test acc: 0.71200\n",
      "Epoch 1, Loss: 3.80843, Test acc: 0.23800\n",
      "Epoch 2, Loss: 3.18443, Test acc: 0.19900\n",
      "Epoch 3, Loss: 3.05643, Test acc: 0.19100\n",
      "Epoch 4, Loss: 2.97643, Test acc: 0.18600\n",
      "Epoch 5, Loss: 2.96043, Test acc: 0.18500\n",
      "Epoch 6, Loss: 2.96043, Test acc: 0.18500\n",
      "Epoch 7, Loss: 2.96043, Test acc: 0.18500\n",
      "Epoch 8, Loss: 2.96043, Test acc: 0.18500\n",
      "Epoch 9, Loss: 2.96043, Test acc: 0.18500\n",
      "Epoch 10, Loss: 2.94443, Test acc: 0.18400\n",
      "Epoch 11, Loss: 2.94443, Test acc: 0.18400\n",
      "Epoch 12, Loss: 2.92845, Test acc: 0.18300\n",
      "Epoch 13, Loss: 2.91243, Test acc: 0.18200\n",
      "Epoch 14, Loss: 2.91243, Test acc: 0.18200\n",
      "Epoch 15, Loss: 2.89643, Test acc: 0.18100\n",
      "Epoch 16, Loss: 2.89642, Test acc: 0.18100\n",
      "Epoch 17, Loss: 2.88043, Test acc: 0.18000\n",
      "Epoch 18, Loss: 2.88043, Test acc: 0.18000\n",
      "Epoch 19, Loss: 2.86443, Test acc: 0.17900\n",
      "Epoch 20, Loss: 2.86443, Test acc: 0.17900\n",
      "Epoch 21, Loss: 2.86443, Test acc: 0.17900\n",
      "Epoch 22, Loss: 2.86443, Test acc: 0.17900\n",
      "Epoch 23, Loss: 2.84843, Test acc: 0.17800\n",
      "Epoch 24, Loss: 2.84843, Test acc: 0.17800\n",
      "Epoch 25, Loss: 2.84843, Test acc: 0.17800\n",
      "Epoch 26, Loss: 2.84843, Test acc: 0.17800\n",
      "Epoch 27, Loss: 2.84843, Test acc: 0.17800\n",
      "Epoch 28, Loss: 2.84843, Test acc: 0.17800\n",
      "Epoch 29, Loss: 2.84843, Test acc: 0.17800\n",
      "Epoch 30, Loss: 2.84843, Test acc: 0.17800\n",
      "Epoch 31, Loss: 2.84843, Test acc: 0.17800\n",
      "Epoch 32, Loss: 2.84843, Test acc: 0.17800\n",
      "Epoch 33, Loss: 2.84843, Test acc: 0.17800\n",
      "Epoch 34, Loss: 2.84843, Test acc: 0.17800\n",
      "Epoch 35, Loss: 2.84843, Test acc: 0.17800\n",
      "Epoch 36, Loss: 2.84843, Test acc: 0.17800\n",
      "Epoch 37, Loss: 2.84843, Test acc: 0.17800\n",
      "Epoch 38, Loss: 2.84843, Test acc: 0.17800\n",
      "Epoch 39, Loss: 2.84843, Test acc: 0.17800\n",
      "Epoch 40, Loss: 2.84843, Test acc: 0.17800\n",
      "Epoch 41, Loss: 2.84843, Test acc: 0.17800\n",
      "Epoch 42, Loss: 2.84843, Test acc: 0.17800\n",
      "Epoch 43, Loss: 2.84843, Test acc: 0.17800\n",
      "Epoch 44, Loss: 2.84843, Test acc: 0.17800\n",
      "Epoch 45, Loss: 2.84843, Test acc: 0.17800\n",
      "Epoch 46, Loss: 2.84843, Test acc: 0.17800\n",
      "Epoch 47, Loss: 2.84843, Test acc: 0.17800\n",
      "Epoch 48, Loss: 2.84843, Test acc: 0.17800\n",
      "Epoch 49, Loss: 2.84843, Test acc: 0.17800\n",
      "Epoch 50, Loss: 2.84843, Test acc: 0.17800\n",
      "Epoch 51, Loss: 2.84843, Test acc: 0.17800\n",
      "Epoch 52, Loss: 2.84843, Test acc: 0.17800\n",
      "Epoch 53, Loss: 2.84843, Test acc: 0.17800\n",
      "Epoch 54, Loss: 2.84843, Test acc: 0.17800\n",
      "Epoch 55, Loss: 2.84843, Test acc: 0.17800\n",
      "Epoch 56, Loss: 2.84843, Test acc: 0.17800\n",
      "Epoch 57, Loss: 2.84843, Test acc: 0.17800\n",
      "Epoch 58, Loss: 2.84843, Test acc: 0.17800\n",
      "Epoch 59, Loss: 2.84843, Test acc: 0.17800\n",
      "Epoch 60, Loss: 2.84843, Test acc: 0.17800\n",
      "Epoch 61, Loss: 2.84843, Test acc: 0.17800\n",
      "Epoch 62, Loss: 2.84843, Test acc: 0.17800\n",
      "Epoch 63, Loss: 2.84843, Test acc: 0.17800\n",
      "Epoch 64, Loss: 2.84843, Test acc: 0.17800\n",
      "Epoch 65, Loss: 2.84843, Test acc: 0.17800\n",
      "Epoch 66, Loss: 2.84843, Test acc: 0.17800\n",
      "Epoch 67, Loss: 2.84843, Test acc: 0.17800\n",
      "Epoch 68, Loss: 2.84843, Test acc: 0.17800\n",
      "Epoch 69, Loss: 2.84843, Test acc: 0.17800\n",
      "Epoch 70, Loss: 2.84843, Test acc: 0.17800\n",
      "Epoch 71, Loss: 2.84843, Test acc: 0.17800\n",
      "Epoch 72, Loss: 2.84843, Test acc: 0.17800\n",
      "Epoch 73, Loss: 2.84843, Test acc: 0.17800\n",
      "Epoch 74, Loss: 2.84843, Test acc: 0.17800\n",
      "Epoch 75, Loss: 2.84843, Test acc: 0.17800\n",
      "Epoch 76, Loss: 2.84843, Test acc: 0.17800\n",
      "Epoch 77, Loss: 2.84843, Test acc: 0.17800\n",
      "Epoch 78, Loss: 2.84843, Test acc: 0.17800\n",
      "Epoch 79, Loss: 2.84843, Test acc: 0.17800\n",
      "Epoch 80, Loss: 2.84843, Test acc: 0.17800\n",
      "Epoch 81, Loss: 2.84843, Test acc: 0.17800\n",
      "Epoch 82, Loss: 2.84843, Test acc: 0.17800\n",
      "Epoch 83, Loss: 2.84843, Test acc: 0.17800\n",
      "Epoch 84, Loss: 2.84843, Test acc: 0.17800\n",
      "Epoch 85, Loss: 2.84843, Test acc: 0.17800\n",
      "Epoch 86, Loss: 2.84843, Test acc: 0.17800\n",
      "Epoch 87, Loss: 2.84843, Test acc: 0.17800\n",
      "Epoch 88, Loss: 2.84843, Test acc: 0.17800\n",
      "Epoch 89, Loss: 2.84843, Test acc: 0.17800\n",
      "Epoch 90, Loss: 2.84843, Test acc: 0.17800\n",
      "Epoch 91, Loss: 2.84843, Test acc: 0.17800\n",
      "Epoch 92, Loss: 2.84843, Test acc: 0.17800\n",
      "Epoch 93, Loss: 2.84843, Test acc: 0.17800\n",
      "Epoch 94, Loss: 2.84843, Test acc: 0.17800\n",
      "Epoch 95, Loss: 2.84843, Test acc: 0.17800\n",
      "Epoch 96, Loss: 2.84843, Test acc: 0.17800\n",
      "Epoch 97, Loss: 2.84843, Test acc: 0.17800\n",
      "Epoch 98, Loss: 2.84843, Test acc: 0.17800\n",
      "Epoch 99, Loss: 2.84843, Test acc: 0.17800\n"
     ]
    }
   ],
   "source": [
    "from grb.attack.tdgia import TDGIA\n",
    "\n",
    "config = {}\n",
    "config['inject_mode'] = 'random'\n",
    "config['lr'] = 0.01\n",
    "config['n_epoch'] = 100\n",
    "config['feat_lim_min'] = 0\n",
    "config['feat_lim_max'] = 1\n",
    "config['n_inject_max'] = 100\n",
    "config['n_edge_max'] = 20\n",
    "\n",
    "tdgia = TDGIA(dataset, adj_norm_func=GCNAdjNorm, device=device)\n",
    "tdgia.set_config(**config)\n",
    "adj_attack, features_attack = tdgia.attack(model)"
   ]
  },
  {
   "cell_type": "code",
   "execution_count": null,
   "metadata": {},
   "outputs": [],
   "source": []
  },
  {
   "cell_type": "code",
   "execution_count": null,
   "metadata": {},
   "outputs": [],
   "source": []
  }
 ],
 "metadata": {
  "kernelspec": {
   "display_name": "Python 3",
   "language": "python",
   "name": "python3"
  },
  "language_info": {
   "codemirror_mode": {
    "name": "ipython",
    "version": 3
   },
   "file_extension": ".py",
   "mimetype": "text/x-python",
   "name": "python",
   "nbconvert_exporter": "python",
   "pygments_lexer": "ipython3",
   "version": "3.7.10"
  },
  "toc": {
   "base_numbering": 1,
   "nav_menu": {},
   "number_sections": true,
   "sideBar": true,
   "skip_h1_title": false,
   "title_cell": "Table of Contents",
   "title_sidebar": "Contents",
   "toc_cell": false,
   "toc_position": {},
   "toc_section_display": true,
   "toc_window_display": false
  }
 },
 "nbformat": 4,
 "nbformat_minor": 4
}
