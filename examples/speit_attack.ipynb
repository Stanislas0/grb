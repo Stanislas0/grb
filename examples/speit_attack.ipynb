{
 "cells": [
  {
   "cell_type": "code",
   "execution_count": 1,
   "metadata": {
    "ExecuteTime": {
     "end_time": "2021-04-01T13:04:22.269096Z",
     "start_time": "2021-04-01T13:04:20.317444Z"
    }
   },
   "outputs": [],
   "source": [
    "import cogdl\n",
    "import numpy as np\n",
    "import scipy.sparse as sp\n",
    "import torch\n",
    "import torch.nn.functional as F"
   ]
  },
  {
   "cell_type": "code",
   "execution_count": 2,
   "metadata": {
    "ExecuteTime": {
     "end_time": "2021-04-01T13:04:22.272196Z",
     "start_time": "2021-04-01T13:04:22.270488Z"
    }
   },
   "outputs": [],
   "source": [
    "import sys\n",
    "sys.path.append('..')"
   ]
  },
  {
   "cell_type": "markdown",
   "metadata": {},
   "source": [
    "# Load data"
   ]
  },
  {
   "cell_type": "code",
   "execution_count": 3,
   "metadata": {
    "ExecuteTime": {
     "end_time": "2021-04-01T13:04:22.336505Z",
     "start_time": "2021-04-01T13:04:22.272947Z"
    }
   },
   "outputs": [
    {
     "name": "stderr",
     "output_type": "stream",
     "text": [
      "Using backend: pytorch\n"
     ]
    }
   ],
   "source": [
    "import dgl\n",
    "import networkx\n",
    "from grb.dataset.dataloader import DataLoader"
   ]
  },
  {
   "cell_type": "code",
   "execution_count": 4,
   "metadata": {
    "ExecuteTime": {
     "end_time": "2021-04-01T13:04:22.658924Z",
     "start_time": "2021-04-01T13:04:22.337775Z"
    }
   },
   "outputs": [
    {
     "name": "stdout",
     "output_type": "stream",
     "text": [
      "Loading from cache failed, re-processing.\n",
      "Finished data loading and preprocessing.\n",
      "  NumNodes: 2708\n",
      "  NumEdges: 10556\n",
      "  NumFeats: 1433\n",
      "  NumClasses: 7\n",
      "  NumTrainingSamples: 140\n",
      "  NumValidationSamples: 500\n",
      "  NumTestSamples: 1000\n",
      "Done saving data into cached files.\n"
     ]
    }
   ],
   "source": [
    "dataset = DataLoader('cora')"
   ]
  },
  {
   "cell_type": "code",
   "execution_count": 5,
   "metadata": {
    "ExecuteTime": {
     "end_time": "2021-04-01T13:04:22.663609Z",
     "start_time": "2021-04-01T13:04:22.659995Z"
    }
   },
   "outputs": [
    {
     "data": {
      "text/plain": [
       "<2708x2708 sparse matrix of type '<class 'numpy.float64'>'\n",
       "\twith 10556 stored elements in COOrdinate format>"
      ]
     },
     "execution_count": 5,
     "metadata": {},
     "output_type": "execute_result"
    }
   ],
   "source": [
    "dataset.adj"
   ]
  },
  {
   "cell_type": "code",
   "execution_count": 6,
   "metadata": {
    "ExecuteTime": {
     "end_time": "2021-04-01T13:04:22.667523Z",
     "start_time": "2021-04-01T13:04:22.664429Z"
    }
   },
   "outputs": [
    {
     "data": {
      "text/plain": [
       "tensor(indices=tensor([[   0,    0,    0,  ..., 2707, 2707, 2707],\n",
       "                       [ 633, 1862, 2582,  ...,  598, 1473, 2706]]),\n",
       "       values=tensor([1., 1., 1.,  ..., 1., 1., 1.]),\n",
       "       size=(2708, 2708), nnz=10556, layout=torch.sparse_coo)"
      ]
     },
     "execution_count": 6,
     "metadata": {},
     "output_type": "execute_result"
    }
   ],
   "source": [
    "dataset.adj_tensor"
   ]
  },
  {
   "cell_type": "markdown",
   "metadata": {},
   "source": [
    "# Load model"
   ]
  },
  {
   "cell_type": "code",
   "execution_count": 7,
   "metadata": {
    "ExecuteTime": {
     "end_time": "2021-04-01T13:04:22.671232Z",
     "start_time": "2021-04-01T13:04:22.669105Z"
    }
   },
   "outputs": [],
   "source": [
    "from grb.model.gcn import GCN"
   ]
  },
  {
   "cell_type": "code",
   "execution_count": 8,
   "metadata": {
    "ExecuteTime": {
     "end_time": "2021-04-01T13:04:22.675041Z",
     "start_time": "2021-04-01T13:04:22.672317Z"
    }
   },
   "outputs": [],
   "source": [
    "model = GCN(3, [1433, 64, 64, 7], activation=F.elu)"
   ]
  },
  {
   "cell_type": "code",
   "execution_count": 9,
   "metadata": {
    "ExecuteTime": {
     "end_time": "2021-04-01T13:04:22.689636Z",
     "start_time": "2021-04-01T13:04:22.675902Z"
    }
   },
   "outputs": [
    {
     "data": {
      "text/plain": [
       "<All keys matched successfully>"
      ]
     },
     "execution_count": 9,
     "metadata": {},
     "output_type": "execute_result"
    }
   ],
   "source": [
    "model.load_state_dict(torch.load('../grb/model/saved_models/model_gcn_cora.pt'))"
   ]
  },
  {
   "cell_type": "markdown",
   "metadata": {},
   "source": [
    "# Model training"
   ]
  },
  {
   "cell_type": "code",
   "execution_count": 10,
   "metadata": {
    "ExecuteTime": {
     "end_time": "2021-04-01T13:04:22.692000Z",
     "start_time": "2021-04-01T13:04:22.690378Z"
    }
   },
   "outputs": [],
   "source": [
    "from grb.model.trainer import Trainer"
   ]
  },
  {
   "cell_type": "code",
   "execution_count": 11,
   "metadata": {
    "ExecuteTime": {
     "end_time": "2021-04-01T13:04:22.694987Z",
     "start_time": "2021-04-01T13:04:22.692697Z"
    }
   },
   "outputs": [],
   "source": [
    "adam = torch.optim.Adam(model.parameters(), lr=0.01) \n",
    "nll_loss = F.nll_loss\n",
    "device = 'cpu'\n",
    "trainer = Trainer(dataset=dataset, optimizer=adam, loss=nll_loss, device=device)"
   ]
  },
  {
   "cell_type": "code",
   "execution_count": 12,
   "metadata": {
    "ExecuteTime": {
     "end_time": "2021-04-01T13:04:22.697363Z",
     "start_time": "2021-04-01T13:04:22.695700Z"
    }
   },
   "outputs": [],
   "source": [
    "trainer.set_config(n_epoch=100, eval_every=50, save_path='../grb/model/saved_models/model_gcn_cora.pt')"
   ]
  },
  {
   "cell_type": "code",
   "execution_count": 13,
   "metadata": {
    "ExecuteTime": {
     "end_time": "2021-04-01T13:04:28.704585Z",
     "start_time": "2021-04-01T13:04:22.698070Z"
    }
   },
   "outputs": [
    {
     "name": "stdout",
     "output_type": "stream",
     "text": [
      "Epoch 00000 | Loss 0.0000 | Train Acc 1.0000 | Val Acc 0.7020\n",
      "Epoch 00050 | Loss 0.0000 | Train Acc 1.0000 | Val Acc 0.6420\n"
     ]
    }
   ],
   "source": [
    "trainer.train(model)"
   ]
  },
  {
   "cell_type": "markdown",
   "metadata": {},
   "source": [
    "# Evaluation"
   ]
  },
  {
   "cell_type": "code",
   "execution_count": 14,
   "metadata": {
    "ExecuteTime": {
     "end_time": "2021-04-01T13:04:28.707142Z",
     "start_time": "2021-04-01T13:04:28.705435Z"
    }
   },
   "outputs": [],
   "source": [
    "adj = dataset.adj\n",
    "adj_tensor = dataset.adj_tensor\n",
    "features = dataset.features\n",
    "labels = dataset.labels"
   ]
  },
  {
   "cell_type": "code",
   "execution_count": 15,
   "metadata": {
    "ExecuteTime": {
     "end_time": "2021-04-01T13:04:28.715709Z",
     "start_time": "2021-04-01T13:04:28.707752Z"
    }
   },
   "outputs": [],
   "source": [
    "pred = model.forward(features, adj_tensor)"
   ]
  },
  {
   "cell_type": "code",
   "execution_count": 16,
   "metadata": {
    "ExecuteTime": {
     "end_time": "2021-04-01T13:04:28.719388Z",
     "start_time": "2021-04-01T13:04:28.716531Z"
    }
   },
   "outputs": [
    {
     "data": {
      "text/plain": [
       "torch.Size([2708])"
      ]
     },
     "execution_count": 16,
     "metadata": {},
     "output_type": "execute_result"
    }
   ],
   "source": [
    "pred_label = torch.argmax(pred, dim=1)\n",
    "pred_label.shape"
   ]
  },
  {
   "cell_type": "code",
   "execution_count": 17,
   "metadata": {
    "ExecuteTime": {
     "end_time": "2021-04-01T13:04:28.721291Z",
     "start_time": "2021-04-01T13:04:28.719990Z"
    }
   },
   "outputs": [],
   "source": [
    "from grb.utils import evaluator"
   ]
  },
  {
   "cell_type": "code",
   "execution_count": 18,
   "metadata": {
    "ExecuteTime": {
     "end_time": "2021-04-01T13:04:28.724509Z",
     "start_time": "2021-04-01T13:04:28.721902Z"
    }
   },
   "outputs": [
    {
     "data": {
      "text/plain": [
       "tensor(0.6330)"
      ]
     },
     "execution_count": 18,
     "metadata": {},
     "output_type": "execute_result"
    }
   ],
   "source": [
    "acc = evaluator.eval_acc(pred, labels, mask=dataset.test_mask)\n",
    "acc"
   ]
  },
  {
   "cell_type": "markdown",
   "metadata": {},
   "source": [
    "# Attack"
   ]
  },
  {
   "cell_type": "code",
   "execution_count": 19,
   "metadata": {
    "ExecuteTime": {
     "end_time": "2021-04-01T13:04:28.728188Z",
     "start_time": "2021-04-01T13:04:28.725094Z"
    }
   },
   "outputs": [],
   "source": [
    "from grb.attack.speit import Speit"
   ]
  },
  {
   "cell_type": "code",
   "execution_count": 20,
   "metadata": {
    "ExecuteTime": {
     "end_time": "2021-04-01T13:04:28.730333Z",
     "start_time": "2021-04-01T13:04:28.728859Z"
    }
   },
   "outputs": [],
   "source": [
    "target_node = np.random.choice(np.arange(1000), 100)"
   ]
  },
  {
   "cell_type": "code",
   "execution_count": 21,
   "metadata": {
    "ExecuteTime": {
     "end_time": "2021-04-01T13:04:28.732761Z",
     "start_time": "2021-04-01T13:04:28.730918Z"
    }
   },
   "outputs": [],
   "source": [
    "config = {}\n",
    "config['n_inject'] = 100\n",
    "config['n_target_total'] = 1000\n",
    "config['target_node'] = target_node\n",
    "config['mode'] = 'random-inter'\n",
    "config['lr'] = 0.01\n",
    "config['feat_lim_min'] = 0\n",
    "config['feat_lim_max'] = 1"
   ]
  },
  {
   "cell_type": "code",
   "execution_count": 22,
   "metadata": {
    "ExecuteTime": {
     "end_time": "2021-04-01T13:04:28.734864Z",
     "start_time": "2021-04-01T13:04:28.733334Z"
    }
   },
   "outputs": [],
   "source": [
    "speit = Speit(dataset, n_epoch=100, n_inject=100, n_edge_max=100)\n",
    "speit.set_config(**config)"
   ]
  },
  {
   "cell_type": "code",
   "execution_count": 23,
   "metadata": {
    "ExecuteTime": {
     "end_time": "2021-04-01T13:04:28.760187Z",
     "start_time": "2021-04-01T13:04:28.735437Z"
    }
   },
   "outputs": [
    {
     "data": {
      "text/plain": [
       "<2808x2808 sparse matrix of type '<class 'numpy.float64'>'\n",
       "\twith 20610 stored elements in COOrdinate format>"
      ]
     },
     "execution_count": 23,
     "metadata": {},
     "output_type": "execute_result"
    }
   ],
   "source": [
    "adj_attack = speit.injection(target_node, config['mode'])\n",
    "adj_attack"
   ]
  },
  {
   "cell_type": "code",
   "execution_count": 24,
   "metadata": {
    "ExecuteTime": {
     "end_time": "2021-04-01T13:04:33.231804Z",
     "start_time": "2021-04-01T13:04:28.760776Z"
    }
   },
   "outputs": [
    {
     "name": "stdout",
     "output_type": "stream",
     "text": [
      "Epoch 0, Loss: 164.10159, Test acc: 0.91500\n",
      "Epoch 1, Loss: -1177.22974, Test acc: 0.82400\n",
      "Epoch 2, Loss: -4620.98584, Test acc: 0.80400\n",
      "Epoch 3, Loss: -8569.72461, Test acc: 0.78500\n",
      "Epoch 4, Loss: -12529.92773, Test acc: 0.77700\n",
      "Epoch 5, Loss: -16685.82227, Test acc: 0.77200\n",
      "Epoch 6, Loss: -21003.74023, Test acc: 0.76000\n",
      "Epoch 7, Loss: -25322.08984, Test acc: 0.75100\n",
      "Epoch 8, Loss: -29655.33398, Test acc: 0.74300\n",
      "Epoch 9, Loss: -34026.46484, Test acc: 0.73800\n",
      "Epoch 10, Loss: -38421.10547, Test acc: 0.73300\n",
      "Epoch 11, Loss: -42834.43750, Test acc: 0.71800\n",
      "Epoch 12, Loss: -47265.25391, Test acc: 0.70800\n",
      "Epoch 13, Loss: -51717.11328, Test acc: 0.69500\n",
      "Epoch 14, Loss: -56181.17578, Test acc: 0.68900\n",
      "Epoch 15, Loss: -60660.65625, Test acc: 0.68000\n",
      "Epoch 16, Loss: -65149.37500, Test acc: 0.65900\n",
      "Epoch 17, Loss: -69651.74219, Test acc: 0.65000\n",
      "Epoch 18, Loss: -74171.80469, Test acc: 0.64000\n",
      "Epoch 19, Loss: -78754.14062, Test acc: 0.62700\n",
      "Epoch 20, Loss: -83446.54688, Test acc: 0.60800\n",
      "Epoch 21, Loss: -88171.25781, Test acc: 0.59400\n",
      "Epoch 22, Loss: -92913.35156, Test acc: 0.58700\n",
      "Epoch 23, Loss: -97667.07812, Test acc: 0.58000\n",
      "Epoch 24, Loss: -102421.60938, Test acc: 0.57200\n",
      "Epoch 25, Loss: -107220.99219, Test acc: 0.56900\n",
      "Epoch 26, Loss: -112025.38281, Test acc: 0.56000\n",
      "Epoch 27, Loss: -116746.45312, Test acc: 0.55500\n",
      "Epoch 28, Loss: -121468.39062, Test acc: 0.55000\n",
      "Epoch 29, Loss: -126187.07031, Test acc: 0.54900\n",
      "Epoch 30, Loss: -130898.69531, Test acc: 0.54600\n",
      "Epoch 31, Loss: -135608.45312, Test acc: 0.54400\n",
      "Epoch 32, Loss: -140308.64062, Test acc: 0.54000\n",
      "Epoch 33, Loss: -145009.01562, Test acc: 0.53900\n",
      "Epoch 34, Loss: -149707.92188, Test acc: 0.53500\n",
      "Epoch 35, Loss: -154406.64062, Test acc: 0.53500\n",
      "Epoch 36, Loss: -159105.28125, Test acc: 0.53400\n",
      "Epoch 37, Loss: -163803.31250, Test acc: 0.53300\n",
      "Epoch 38, Loss: -168498.79688, Test acc: 0.53200\n",
      "Epoch 39, Loss: -173191.53125, Test acc: 0.53100\n",
      "Epoch 40, Loss: -177881.92188, Test acc: 0.53100\n",
      "Epoch 41, Loss: -182570.48438, Test acc: 0.53000\n",
      "Epoch 42, Loss: -187249.60938, Test acc: 0.53000\n",
      "Epoch 43, Loss: -191928.53125, Test acc: 0.52900\n",
      "Epoch 44, Loss: -196607.39062, Test acc: 0.52900\n",
      "Epoch 45, Loss: -201282.12500, Test acc: 0.52900\n",
      "Epoch 46, Loss: -205955.37500, Test acc: 0.52900\n",
      "Epoch 47, Loss: -210627.64062, Test acc: 0.52900\n",
      "Epoch 48, Loss: -215299.28125, Test acc: 0.52900\n",
      "Epoch 49, Loss: -219969.85938, Test acc: 0.52800\n",
      "Epoch 50, Loss: -224636.71875, Test acc: 0.52800\n",
      "Epoch 51, Loss: -229302.35938, Test acc: 0.52800\n",
      "Epoch 52, Loss: -233962.01562, Test acc: 0.52800\n",
      "Epoch 53, Loss: -238620.56250, Test acc: 0.52800\n",
      "Epoch 54, Loss: -243278.60938, Test acc: 0.52800\n",
      "Epoch 55, Loss: -247935.78125, Test acc: 0.52800\n",
      "Epoch 56, Loss: -252589.35938, Test acc: 0.52800\n",
      "Epoch 57, Loss: -257240.71875, Test acc: 0.52700\n",
      "Epoch 58, Loss: -261881.34375, Test acc: 0.52700\n",
      "Epoch 59, Loss: -266520.84375, Test acc: 0.52600\n",
      "Epoch 60, Loss: -271159.28125, Test acc: 0.52600\n",
      "Epoch 61, Loss: -275796.62500, Test acc: 0.52600\n",
      "Epoch 62, Loss: -280433.37500, Test acc: 0.52600\n",
      "Epoch 63, Loss: -285069.65625, Test acc: 0.52600\n",
      "Epoch 64, Loss: -289705.12500, Test acc: 0.52500\n",
      "Epoch 65, Loss: -294338.84375, Test acc: 0.52500\n",
      "Epoch 66, Loss: -298971.68750, Test acc: 0.52400\n",
      "Epoch 67, Loss: -303603.93750, Test acc: 0.52400\n",
      "Epoch 68, Loss: -308235.12500, Test acc: 0.52400\n",
      "Epoch 69, Loss: -312865.65625, Test acc: 0.52400\n",
      "Epoch 70, Loss: -317495.59375, Test acc: 0.52400\n",
      "Epoch 71, Loss: -322124.62500, Test acc: 0.52400\n",
      "Epoch 72, Loss: -326752.68750, Test acc: 0.52300\n",
      "Epoch 73, Loss: -331379.50000, Test acc: 0.52300\n",
      "Epoch 74, Loss: -336005.21875, Test acc: 0.52300\n",
      "Epoch 75, Loss: -340630.06250, Test acc: 0.52300\n",
      "Epoch 76, Loss: -345253.31250, Test acc: 0.52300\n",
      "Epoch 77, Loss: -349871.87500, Test acc: 0.52300\n",
      "Epoch 78, Loss: -354490.03125, Test acc: 0.52300\n",
      "Epoch 79, Loss: -359108.90625, Test acc: 0.52200\n",
      "Epoch 80, Loss: -363724.18750, Test acc: 0.52200\n",
      "Epoch 81, Loss: -368341.21875, Test acc: 0.52200\n",
      "Epoch 82, Loss: -372959.06250, Test acc: 0.52200\n",
      "Epoch 83, Loss: -377575.84375, Test acc: 0.52200\n",
      "Epoch 84, Loss: -382192.06250, Test acc: 0.52200\n",
      "Epoch 85, Loss: -386805.68750, Test acc: 0.52200\n",
      "Epoch 86, Loss: -391416.59375, Test acc: 0.52200\n",
      "Epoch 87, Loss: -396027.93750, Test acc: 0.52200\n",
      "Epoch 88, Loss: -400639.18750, Test acc: 0.52200\n",
      "Epoch 89, Loss: -405248.71875, Test acc: 0.52200\n",
      "Epoch 90, Loss: -409858.37500, Test acc: 0.52200\n",
      "Epoch 91, Loss: -414467.84375, Test acc: 0.52200\n",
      "Epoch 92, Loss: -419072.09375, Test acc: 0.52200\n",
      "Epoch 93, Loss: -423662.34375, Test acc: 0.52200\n",
      "Epoch 94, Loss: -428215.75000, Test acc: 0.52200\n",
      "Epoch 95, Loss: -432678.75000, Test acc: 0.52200\n",
      "Epoch 96, Loss: -436929.15625, Test acc: 0.52200\n",
      "Epoch 97, Loss: -440819.93750, Test acc: 0.52200\n",
      "Epoch 98, Loss: -444048.50000, Test acc: 0.52200\n",
      "Epoch 99, Loss: -446473.09375, Test acc: 0.52200\n"
     ]
    }
   ],
   "source": [
    "features_attack = speit.attack(model, features, adj, target_node)"
   ]
  },
  {
   "cell_type": "code",
   "execution_count": 25,
   "metadata": {
    "ExecuteTime": {
     "end_time": "2021-04-01T13:04:33.237050Z",
     "start_time": "2021-04-01T13:04:33.234208Z"
    }
   },
   "outputs": [],
   "source": [
    "speit.save_features(features_attack, './', 'features.npy')\n",
    "speit.save_adj(adj_attack, './', 'adj.pkl')"
   ]
  }
 ],
 "metadata": {
  "kernelspec": {
   "display_name": "Python 3",
   "language": "python",
   "name": "python3"
  },
  "language_info": {
   "codemirror_mode": {
    "name": "ipython",
    "version": 3
   },
   "file_extension": ".py",
   "mimetype": "text/x-python",
   "name": "python",
   "nbconvert_exporter": "python",
   "pygments_lexer": "ipython3",
   "version": "3.8.8"
  }
 },
 "nbformat": 4,
 "nbformat_minor": 4
}
